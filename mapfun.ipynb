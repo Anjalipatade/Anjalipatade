{
  "nbformat": 4,
  "nbformat_minor": 0,
  "metadata": {
    "colab": {
      "name": "mapfun",
      "provenance": [],
      "authorship_tag": "ABX9TyN/t/Jqg5cT5F9yvGtTpKVI",
      "include_colab_link": true
    },
    "kernelspec": {
      "name": "python3",
      "display_name": "Python 3"
    },
    "language_info": {
      "name": "python"
    }
  },
  "cells": [
    {
      "cell_type": "markdown",
      "metadata": {
        "id": "view-in-github",
        "colab_type": "text"
      },
      "source": [
        "<a href=\"https://colab.research.google.com/github/Anjalipatade/Anjalipatade/blob/main/mapfun.ipynb\" target=\"_parent\"><img src=\"https://colab.research.google.com/assets/colab-badge.svg\" alt=\"Open In Colab\"/></a>"
      ]
    },
    {
      "cell_type": "code",
      "metadata": {
        "colab": {
          "base_uri": "https://localhost:8080/"
        },
        "id": "ldI-p06Cx27i",
        "outputId": "ffde3d89-bc07-4f52-96eb-ae0752d853a8"
      },
      "source": [
        "def addition(n):\n",
        "  return n + n\n",
        "numbers = (1,2,3,4)\n",
        "result = map(addition, numbers)\n",
        "print(list(result))   "
      ],
      "execution_count": null,
      "outputs": [
        {
          "output_type": "stream",
          "name": "stdout",
          "text": [
            "[2, 4, 6, 8]\n"
          ]
        }
      ]
    },
    {
      "cell_type": "code",
      "metadata": {
        "colab": {
          "base_uri": "https://localhost:8080/"
        },
        "id": "DfwWgydIzjAX",
        "outputId": "0f0348a9-4d0c-4759-ce35-c5f01dd143f8"
      },
      "source": [
        "def multiplication(n):\n",
        "  return n*n\n",
        "numbers = (50,30)\n",
        "result = map(multiplication, numbers)\n",
        "print(list(result))\n",
        "  \n"
      ],
      "execution_count": null,
      "outputs": [
        {
          "output_type": "stream",
          "name": "stdout",
          "text": [
            "[2500, 900]\n"
          ]
        }
      ]
    },
    {
      "cell_type": "code",
      "metadata": {
        "colab": {
          "base_uri": "https://localhost:8080/"
        },
        "id": "WNRT7-av0M9O",
        "outputId": "a67a39ff-d04e-4cf2-dd5b-48f4c3e938f0"
      },
      "source": [
        "def division(n):\n",
        "  return n/n\n",
        "numbers = (555,12)\n",
        "result = map(division,numbers)\n",
        "print(list(result))  "
      ],
      "execution_count": null,
      "outputs": [
        {
          "output_type": "stream",
          "name": "stdout",
          "text": [
            "[1.0, 1.0]\n"
          ]
        }
      ]
    }
  ]
}