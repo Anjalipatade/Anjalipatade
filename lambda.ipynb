{
  "nbformat": 4,
  "nbformat_minor": 0,
  "metadata": {
    "colab": {
      "name": "lambda",
      "provenance": [],
      "authorship_tag": "ABX9TyPJ/98wChO4M3F/k01JKDkH",
      "include_colab_link": true
    },
    "kernelspec": {
      "name": "python3",
      "display_name": "Python 3"
    },
    "language_info": {
      "name": "python"
    }
  },
  "cells": [
    {
      "cell_type": "markdown",
      "metadata": {
        "id": "view-in-github",
        "colab_type": "text"
      },
      "source": [
        "<a href=\"https://colab.research.google.com/github/Anjalipatade/Anjalipatade/blob/main/lambda.ipynb\" target=\"_parent\"><img src=\"https://colab.research.google.com/assets/colab-badge.svg\" alt=\"Open In Colab\"/></a>"
      ]
    },
    {
      "cell_type": "code",
      "metadata": {
        "colab": {
          "base_uri": "https://localhost:8080/"
        },
        "id": "gglbIziiovee",
        "outputId": "db73966d-e3f0-40a6-d220-06c8f3a89ced"
      },
      "source": [
        "x= lambda a : a + 10\n",
        "print (x(5))"
      ],
      "execution_count": 1,
      "outputs": [
        {
          "output_type": "stream",
          "name": "stdout",
          "text": [
            "15\n"
          ]
        }
      ]
    },
    {
      "cell_type": "code",
      "metadata": {
        "colab": {
          "base_uri": "https://localhost:8080/"
        },
        "id": "XYe05RQMqLb6",
        "outputId": "f1dc33f9-0b3e-4309-aca0-bbdb49192754"
      },
      "source": [
        "x= lambda a, b : a*b\n",
        "print(x(5,6))"
      ],
      "execution_count": 4,
      "outputs": [
        {
          "output_type": "stream",
          "name": "stdout",
          "text": [
            "30\n"
          ]
        }
      ]
    },
    {
      "cell_type": "code",
      "metadata": {
        "colab": {
          "base_uri": "https://localhost:8080/"
        },
        "id": "q9xbQeIlqwOw",
        "outputId": "b2bf6166-342a-4310-c27f-3e3d736d48fb"
      },
      "source": [
        "x = lambda a,b,c:a+b+c\n",
        "print(x(5,6,2))"
      ],
      "execution_count": 5,
      "outputs": [
        {
          "output_type": "stream",
          "name": "stdout",
          "text": [
            "13\n"
          ]
        }
      ]
    },
    {
      "cell_type": "code",
      "metadata": {
        "colab": {
          "base_uri": "https://localhost:8080/"
        },
        "id": "hkd_r6-9q_GQ",
        "outputId": "312ecdbe-0237-4c8d-94b2-5fb49a579a58"
      },
      "source": [
        "x = lambda a,b,c,d:a-b-c-d\n",
        "print(x(9,8,7,10))"
      ],
      "execution_count": 7,
      "outputs": [
        {
          "output_type": "stream",
          "name": "stdout",
          "text": [
            "-16\n"
          ]
        }
      ]
    }
  ]
}