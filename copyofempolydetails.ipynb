{
  "nbformat": 4,
  "nbformat_minor": 0,
  "metadata": {
    "colab": {
      "name": "copyofempolydetails",
      "provenance": [],
      "authorship_tag": "ABX9TyMr6GBFA9xJvZeyqIXLqQoW",
      "include_colab_link": true
    },
    "kernelspec": {
      "name": "python3",
      "display_name": "Python 3"
    },
    "language_info": {
      "name": "python"
    }
  },
  "cells": [
    {
      "cell_type": "markdown",
      "metadata": {
        "id": "view-in-github",
        "colab_type": "text"
      },
      "source": [
        "<a href=\"https://colab.research.google.com/github/Anjalipatade/Anjalipatade/blob/main/copyofempolydetails.ipynb\" target=\"_parent\"><img src=\"https://colab.research.google.com/assets/colab-badge.svg\" alt=\"Open In Colab\"/></a>"
      ]
    },
    {
      "cell_type": "code",
      "metadata": {
        "colab": {
          "base_uri": "https://localhost:8080/"
        },
        "id": "LvBOmDfX1Rgj",
        "outputId": "be3ab7c8-ec12-4413-aa05-c0aba48c8ef3"
      },
      "source": [
        "class Employee:\n",
        "  count=0\n",
        "  def __init__(self,name,design,salary):\n",
        "    self.name=name\n",
        "    self.design=design\n",
        "    self.salary=salary\n",
        "    Employee.count+=1\n",
        "  def displaycount(self):\n",
        "      print(\"There are %d Empolyee\"% Employee.count)\n",
        "  def displaydetails(self):\n",
        "       print(\"name:\",self.name,\",designation\",self.design,\",salary:\",self.salary)\n",
        "e1=Employee(\"john\",\"manager\",80000) \n",
        "e2=Employee(\"mike\",\"team leader\",50000)\n",
        "e3=Employee(\"derek\",\"programer\",30000)\n",
        "e4=Employee(\"raj\",\"assistant\",25000)\n",
        "e4.displaycount()\n",
        "print(\"details of all employee:\")\n",
        "e1.displaydetails()\n",
        "e2.displaydetails()\n",
        "e3.displaydetails()\n",
        "e4.displaydetails()        \n"
      ],
      "execution_count": null,
      "outputs": [
        {
          "output_type": "stream",
          "name": "stdout",
          "text": [
            "There are 4 Empolyee\n",
            "details of all employee:\n",
            "name: john ,designation manager ,salary: 80000\n",
            "name: mike ,designation team leader ,salary: 50000\n",
            "name: derek ,designation programer ,salary: 30000\n",
            "name: raj ,designation assistant ,salary: 25000\n"
          ]
        }
      ]
    },
    {
      "cell_type": "code",
      "metadata": {
        "id": "svvn5wBcPn7v"
      },
      "source": [
        ""
      ],
      "execution_count": null,
      "outputs": []
    },
    {
      "cell_type": "code",
      "metadata": {
        "colab": {
          "base_uri": "https://localhost:8080/"
        },
        "id": "WtRaoUXiPqYt",
        "outputId": "ea3022a6-e894-4d60-fb59-b94be2dbba51"
      },
      "source": [
        "class student:\n",
        "  count=0\n",
        "  def __init__(self,name,division,mark):\n",
        "    self.name=name\n",
        "    self.division=division\n",
        "    self.mark=mark\n",
        "    student.count+=1\n",
        "  def displaycount(self):\n",
        "      print(\"There are %d student\"% student.count)\n",
        "  def displaydetails(self):\n",
        "       print(\"name:\",self.name,\",division\",self.division,\",mark:\",self.mark)\n",
        "e1=student(\"john\",\"first class\",100) \n",
        "e2=student(\"mike\",\"second class\",80)\n",
        "e3=student(\"derek\",\"third class\",50)\n",
        "e4=student(\"raj\",\"fourth class\",25)\n",
        "e4.displaycount()\n",
        "print(\"details of all student:\")\n",
        "e1.displaydetails()\n",
        "e2.displaydetails()\n",
        "e3.displaydetails()\n",
        "e4.displaydetails()        \n"
      ],
      "execution_count": null,
      "outputs": [
        {
          "output_type": "stream",
          "name": "stdout",
          "text": [
            "There are 4 student\n",
            "details of all student:\n",
            "name: john ,division first class ,mark: 100\n",
            "name: mike ,division second class ,mark: 80\n",
            "name: derek ,division third class ,mark: 50\n",
            "name: raj ,division fourth class ,mark: 25\n"
          ]
        }
      ]
    }
  ]
}