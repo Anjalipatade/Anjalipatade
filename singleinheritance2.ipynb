{
  "nbformat": 4,
  "nbformat_minor": 0,
  "metadata": {
    "colab": {
      "name": "singleinheritance2",
      "provenance": [],
      "authorship_tag": "ABX9TyOVmHGEZmqKYRbbi7kd9Ei8",
      "include_colab_link": true
    },
    "kernelspec": {
      "name": "python3",
      "display_name": "Python 3"
    },
    "language_info": {
      "name": "python"
    }
  },
  "cells": [
    {
      "cell_type": "markdown",
      "metadata": {
        "id": "view-in-github",
        "colab_type": "text"
      },
      "source": [
        "<a href=\"https://colab.research.google.com/github/Anjalipatade/Anjalipatade/blob/main/singleinheritance2.ipynb\" target=\"_parent\"><img src=\"https://colab.research.google.com/assets/colab-badge.svg\" alt=\"Open In Colab\"/></a>"
      ]
    },
    {
      "cell_type": "code",
      "metadata": {
        "colab": {
          "base_uri": "https://localhost:8080/"
        },
        "id": "CssFM5ML23tM",
        "outputId": "58d17295-7fe5-4277-8e67-d733bc6c9467"
      },
      "source": [
        "class Animal:\n",
        "  def speak(self):\n",
        "   print(\"Animal Speaking\")\n",
        "\n",
        "class Dog(Animal):\n",
        "  def bark(self):\n",
        "    print(\"dog barking\")\n",
        "d = Dog()      \n",
        "d.bark()\n",
        "d.speak()"
      ],
      "execution_count": null,
      "outputs": [
        {
          "output_type": "stream",
          "name": "stdout",
          "text": [
            "dog barking\n",
            "Animal Speaking\n"
          ]
        }
      ]
    }
  ]
}