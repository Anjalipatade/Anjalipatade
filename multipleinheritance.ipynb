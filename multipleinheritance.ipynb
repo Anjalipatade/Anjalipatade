{
  "nbformat": 4,
  "nbformat_minor": 0,
  "metadata": {
    "colab": {
      "name": "multipleinheritance",
      "provenance": [],
      "collapsed_sections": [],
      "authorship_tag": "ABX9TyM7EIHR4WpiIFjwLPfNP8F/",
      "include_colab_link": true
    },
    "kernelspec": {
      "name": "python3",
      "display_name": "Python 3"
    },
    "language_info": {
      "name": "python"
    }
  },
  "cells": [
    {
      "cell_type": "markdown",
      "metadata": {
        "id": "view-in-github",
        "colab_type": "text"
      },
      "source": [
        "<a href=\"https://colab.research.google.com/github/Anjalipatade/Anjalipatade/blob/main/multipleinheritance.ipynb\" target=\"_parent\"><img src=\"https://colab.research.google.com/assets/colab-badge.svg\" alt=\"Open In Colab\"/></a>"
      ]
    },
    {
      "cell_type": "code",
      "metadata": {
        "colab": {
          "base_uri": "https://localhost:8080/"
        },
        "id": "1wTq17Wm8uji",
        "outputId": "674cea0b-fb19-4d31-d971-20fcf826aa0c"
      },
      "source": [
        "class paraentA:\n",
        "  eycolor = \"black\"\n",
        "  def height(self):\n",
        "    print(\"height is average\")\n",
        "\n",
        "class paraentB:\n",
        "  eyecolor = \"blue\"\n",
        "  def height(self):\n",
        "    print(\"height is tail\")\n",
        "  def bloodgroup(self):\n",
        "    print(\"Blood Group :O+\")\n",
        "\n",
        "class child(paraentA,paraentB):\n",
        "  def __init__(self):\n",
        "    print(\"created of child class\")\n",
        "\n",
        "if __name__ == \"__main__\":\n",
        "    objc = child()\n",
        "    objc.bloodgroup()\n",
        "    objc.height()\n",
        "    print(\"eyecolor:\",objc.eyecolor)              "
      ],
      "execution_count": null,
      "outputs": [
        {
          "output_type": "stream",
          "name": "stdout",
          "text": [
            "created of child class\n",
            "Blood Group :O+\n",
            "height is average\n",
            "eyecolor: blue\n"
          ]
        }
      ]
    }
  ]
}